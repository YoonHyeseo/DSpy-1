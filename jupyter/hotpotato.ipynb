{
 "cells": [
  {
   "cell_type": "code",
   "execution_count": 40,
   "id": "bcc2d0e1-7017-4d1e-9f9f-66323f2b1880",
   "metadata": {
    "tags": []
   },
   "outputs": [
    {
     "name": "stdout",
     "output_type": "stream",
     "text": [
      "[12, 17, 25, 11, 30, None, None, None, None, None]\n"
     ]
    }
   ],
   "source": [
    "q = QueueCircular(10)\n",
    "q.enqueue(12)\n",
    "q.enqueue(17)\n",
    "q.enqueue(25)\n",
    "q.enqueue(11)\n",
    "q.dequeue()\n",
    "q.dequeue()\n",
    "q.enqueue(30)\n",
    "print(q)"
   ]
  },
  {
   "cell_type": "code",
   "execution_count": 63,
   "id": "4777e515-7d00-4943-9b60-34bd38716c69",
   "metadata": {},
   "outputs": [
    {
     "name": "stdout",
     "output_type": "stream",
     "text": [
      "Overwriting hotpotato.py\n"
     ]
    }
   ],
   "source": [
    "%%writefile hotpotato.py\n",
    "from queue import Queue\n",
    "class QueueCircular:\n",
    "    def __init__(self, size):\n",
    "        self.items = [None] * size\n",
    "        self.MAX = size\n",
    "        self.front = -1\n",
    "        self.back = -1\n",
    "        \n",
    "    def enqueue(self, item):\n",
    "        if (self.back + 1) % self.MAX == self.front :\n",
    "            print('The circular queue is full')\n",
    "        elif self.back == -1:\n",
    "            self.front = 0\n",
    "            self.back = 0\n",
    "            self.items[self.back] = item\n",
    "        else:\n",
    "            self.back = (self.back + 1) % self.MAX\n",
    "            self.items[self.back] = item\n",
    "    def dequeue(self):\n",
    "        if self.front == -1:\n",
    "            print('The circular queue is empty')            \n",
    "        elif self.front == self.back:\n",
    "            now = self.items[self.front] #???????????????????????????\n",
    "            self.front = -1\n",
    "            self.back = -1\n",
    "            self.items[self.back] = now #????????????????????????????\n",
    "        else:\n",
    "            now = self.items[self.front]\n",
    "            self.front = (self.front + 1) % self.MAX\n",
    "            #return now\n",
    "    def __repr__(self):\n",
    "        return ('front: {} points({}), back: {} points({})'. format(self.front, self.items[self.front], self.back, self.items[self.back]))\n",
    "    def __str__(self):\n",
    "        if self.front == -1:\n",
    "            return ('QueueCircular([])')\n",
    "        else:\n",
    "            return ('QueueCircular({})'.format(self.items[self.front:self.back+1])) #???????????????????????????\n",
    "    \n",
    "if __name__ == '__main__':\n",
    "    q = QueueCircular(4)\n",
    "    print('1:',q)\n",
    "    q.enqueue(12)  \n",
    "    q.enqueue(17) \n",
    "    q.enqueue(25)  \n",
    "    q.enqueue(11)  \n",
    "    q.enqueue(30) \n",
    "    print('4: ',q)\n",
    "    q.dequeue()  \n",
    "    q.dequeue()  \n",
    "    print('5: ',q)\n"
   ]
  },
  {
   "cell_type": "code",
   "execution_count": null,
   "id": "290a508a-aa89-488a-87ea-fb779d0fe903",
   "metadata": {},
   "outputs": [],
   "source": []
  }
 ],
 "metadata": {
  "kernelspec": {
   "display_name": "Python 3",
   "language": "python",
   "name": "python3"
  },
  "language_info": {
   "codemirror_mode": {
    "name": "ipython",
    "version": 3
   },
   "file_extension": ".py",
   "mimetype": "text/x-python",
   "name": "python",
   "nbconvert_exporter": "python",
   "pygments_lexer": "ipython3",
   "version": "3.8.8"
  }
 },
 "nbformat": 4,
 "nbformat_minor": 5
}
